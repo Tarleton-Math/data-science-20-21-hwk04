{
  "nbformat": 4,
  "nbformat_minor": 0,
  "metadata": {
    "colab": {
      "name": "main.ipynb",
      "provenance": [],
      "collapsed_sections": [],
      "include_colab_link": true
    },
    "kernelspec": {
      "name": "python3",
      "display_name": "Python 3"
    }
  },
  "cells": [
    {
      "cell_type": "markdown",
      "metadata": {
        "id": "view-in-github",
        "colab_type": "text"
      },
      "source": [
        "<a href=\"https://colab.research.google.com/github/Tarleton-Math/data-science-20-21-hwk04/blob/master/main.ipynb\" target=\"_parent\"><img src=\"https://colab.research.google.com/assets/colab-badge.svg\" alt=\"Open In Colab\"/></a>"
      ]
    },
    {
      "cell_type": "markdown",
      "metadata": {
        "id": "ZNlpEYHNjcT_",
        "colab_type": "text"
      },
      "source": [
        "#  Homework 04\n",
        "## Data Science (masters)\n",
        "## Math 5364 & 5366, Fall 20 & Spring 21\n",
        "## Tarleton State University\n",
        "## Dr. Scott Cook\n",
        "## Due 2020-09-24"
      ]
    },
    {
      "cell_type": "markdown",
      "metadata": {
        "id": "WRERjoJsIzOL",
        "colab_type": "text"
      },
      "source": [
        "Correctly fill in the code lines that say \"# fill in - hwk04\" in [data_science_20_21_notes_09_15_partial.ipynb](https://github.com/Tarleton-Math/data-science-20-21/blob/master/data_science_20_21_notes_09_15_partial.ipynb).  Confirm that your residuals are all 0; this means my_knn and sk_knn agree.  Upload here with file name \"data_science_20_21_notes_09_15_complete.ipynb\"."
      ]
    }
  ]
}