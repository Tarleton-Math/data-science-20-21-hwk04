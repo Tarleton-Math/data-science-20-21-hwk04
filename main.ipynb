{
  "nbformat": 4,
  "nbformat_minor": 0,
  "metadata": {
    "colab": {
      "name": "main.ipynb",
      "provenance": [],
      "collapsed_sections": [],
      "include_colab_link": true
    },
    "kernelspec": {
      "name": "python3",
      "display_name": "Python 3"
    }
  },
  "cells": [
    {
      "cell_type": "markdown",
      "metadata": {
        "id": "view-in-github",
        "colab_type": "text"
      },
      "source": [
        "<a href=\"https://colab.research.google.com/github/Tarleton-Math/data-science-20-21-hwk03/blob/master/main.ipynb\" target=\"_parent\"><img src=\"https://colab.research.google.com/assets/colab-badge.svg\" alt=\"Open In Colab\"/></a>"
      ]
    },
    {
      "cell_type": "markdown",
      "metadata": {
        "id": "ZNlpEYHNjcT_",
        "colab_type": "text"
      },
      "source": [
        "#  Homework 03\n",
        "## Data Science (masters)\n",
        "## Math 5364 & 5366, Fall 20 & Spring 21\n",
        "## Tarleton State University\n",
        "## Dr. Scott Cook\n",
        "## Due 2020-09-17"
      ]
    },
    {
      "cell_type": "markdown",
      "metadata": {
        "id": "WRERjoJsIzOL",
        "colab_type": "text"
      },
      "source": [
        "By hand, rewrite the linear algebra definitions & theorems from [notes](https://github.com/Tarleton-Math/data-science-20-21/blob/master/data_science_20_21_notes_08_27.ipynb).\n",
        "- Yes, by hand b/c that is probably how you'll need to do it on the final exam\n",
        "- I urge you to do this in the form of a study aid (like flashcards) to help prepare for the final exam\n",
        "- You do not need to do comments; things with \"def\", \"theorem\", and (once) \"proof\"\n",
        "- Submit pictures\n",
        "    - if you do flashcards, it adds up to ~40 of them.  To avoid excessive tedium, you can submits pictures of a subset\n",
        "        - at least one from each section\n",
        "        - select ones that are unsure about or tried to reword in your own way"
      ]
    }
  ]
}